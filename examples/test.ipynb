{
 "cells": [
  {
   "cell_type": "code",
   "execution_count": 195,
   "metadata": {},
   "outputs": [
    {
     "ename": "IndentationError",
     "evalue": "unexpected indent (utils.py, line 12)",
     "output_type": "error",
     "traceback": [
      "\u001b[0;36m  File \u001b[0;32m\"../utils.py\"\u001b[0;36m, line \u001b[0;32m12\u001b[0m\n\u001b[0;31m    = np.loadtxt(mat)\u001b[0m\n\u001b[0m    ^\u001b[0m\n\u001b[0;31mIndentationError\u001b[0m\u001b[0;31m:\u001b[0m unexpected indent\n"
     ]
    }
   ],
   "source": [
    "import sys\n",
    "sys.path.insert(0, '../')\n",
    "import utils"
   ]
  },
  {
   "cell_type": "code",
   "execution_count": 1,
   "metadata": {},
   "outputs": [],
   "source": [
    "import numpy as np\n",
    "import pandas as pd\n",
    "from scipy.sparse import *"
   ]
  },
  {
   "cell_type": "code",
   "execution_count": 2,
   "metadata": {},
   "outputs": [],
   "source": [
    "def redistribute_gene_score(coef, mat, signal, out): # TODO: his may be better in the R script for the package\n",
    "    '''\n",
    "    calculate the redistributed gene score after the signal on genes was redistributed by regression\n",
    "    :param coef: path to input file, a data frame, with dims [n_features, n_lambdas]\n",
    "    :param mat: a binary sparse matrix in text format, with dims [n_genes, n_features]\n",
    "    :param signal: a [n_genes, ] vector of the original signal on gene\n",
    "    :return: a [n_lambda, ] list of sparse matrices each has dims [n_genes, n_features] . where entries describe the \"explanatory power\" of a gene in a feature\n",
    "    '''\n",
    "    mat_feature_lambda = np.array(pd.read_table(coef, index_col=0))\n",
    "    coo_gene_feature = np.loadtxt(mat).astype(int)\n",
    "    vsignal = np.loadtxt(signal)\n",
    "    with open(out, 'w') as ofh:\n",
    "        for i in range(mat_feature_lambda.shape[1]):\n",
    "            mat_gene_feature = coo_matrix((mat_feature_lambda[:, i][coo_gene_feature[:, 1]],\n",
    "                                 (coo_gene_feature[:,0], coo_gene_feature[:,1])))\n",
    "            # rescale this\n",
    "            for x, y, d in zip(mat_gene_feature.row, mat_gene_feature.col, mat_gene_feature.data):\n",
    "                if (d == 0) or (vsignal[x]==0):\n",
    "                    continue\n",
    "                ofh.write('{}\\t{}\\t{}\\t{:.6f}\\n'.format(i, x, y, d * vsignal[x] / float(np.sum(mat_gene_feature, axis=1)[x])))"
   ]
  },
  {
   "cell_type": "code",
   "execution_count": 3,
   "metadata": {},
   "outputs": [],
   "source": [
    "coef = 'nest1.blca_mutsig_diff_nneg_log_ps5.glmnet-ms-impact.coef'\n",
    "mat = 'nest1_conn.txt'\n",
    "signal = 'build_20181101_blca_diff_nneg_log_ps5.txt'\n",
    "out = 'redistribute_demo.txt'"
   ]
  },
  {
   "cell_type": "code",
   "execution_count": null,
   "metadata": {},
   "outputs": [],
   "source": [
    "% time redistribute_gene_score(coef, mat, signal, out)"
   ]
  }
 ],
 "metadata": {
  "kernelspec": {
   "display_name": "Python [default]",
   "language": "python",
   "name": "python2"
  },
  "language_info": {
   "codemirror_mode": {
    "name": "ipython",
    "version": 2
   },
   "file_extension": ".py",
   "mimetype": "text/x-python",
   "name": "python",
   "nbconvert_exporter": "python",
   "pygments_lexer": "ipython2",
   "version": "2.7.14"
  }
 },
 "nbformat": 4,
 "nbformat_minor": 2
}
